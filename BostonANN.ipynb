{
  "nbformat": 4,
  "nbformat_minor": 0,
  "metadata": {
    "colab": {
      "name": "BostonANN.ipynb",
      "version": "0.3.2",
      "provenance": [],
      "collapsed_sections": [],
      "include_colab_link": true
    },
    "kernelspec": {
      "name": "python3",
      "display_name": "Python 3"
    }
  },
  "cells": [
    {
      "cell_type": "markdown",
      "metadata": {
        "id": "view-in-github",
        "colab_type": "text"
      },
      "source": [
        "<a href=\"https://colab.research.google.com/github/Swathi12499/DataAnalytics/blob/master/BostonANN.ipynb\" target=\"_parent\"><img src=\"https://colab.research.google.com/assets/colab-badge.svg\" alt=\"Open In Colab\"/></a>"
      ]
    },
    {
      "cell_type": "code",
      "metadata": {
        "id": "gLrFXHd3cRq9",
        "colab_type": "code",
        "outputId": "3845119d-a095-49e3-fef9-d43c123f6e9d",
        "colab": {
          "base_uri": "https://localhost:8080/",
          "height": 36
        }
      },
      "source": [
        "# Keras is a deep learning framework to build neural networks\n",
        "\n",
        "from keras.models import Sequential #to create model layer by layer\n",
        "from keras.layers import Dense #to create fully connected network\n",
        "import numpy as np"
      ],
      "execution_count": 1,
      "outputs": [
        {
          "output_type": "stream",
          "text": [
            "Using TensorFlow backend.\n"
          ],
          "name": "stderr"
        }
      ]
    },
    {
      "cell_type": "code",
      "metadata": {
        "id": "htL0FMcibjl1",
        "colab_type": "code",
        "colab": {}
      },
      "source": [
        "from sklearn.datasets import load_boston #to load the standard iris dataset\n",
        "#Standard Scaler to standardize(z score) the data by making zero mean and unit variance\n",
        "#One hot encoder  to give a binary representation\n",
        "from sklearn.preprocessing import StandardScaler,OneHotEncoder \n",
        "from sklearn.model_selection import train_test_split # to split data for training and testing"
      ],
      "execution_count": 0,
      "outputs": []
    },
    {
      "cell_type": "code",
      "metadata": {
        "id": "JxuZV8Usrx3P",
        "colab_type": "code",
        "colab": {}
      },
      "source": [
        "boston=load_boston()"
      ],
      "execution_count": 0,
      "outputs": []
    },
    {
      "cell_type": "code",
      "metadata": {
        "id": "NrIFyNH0r-UN",
        "colab_type": "code",
        "outputId": "a342d6b2-7b4c-4b2f-8df9-065fdd8e906d",
        "colab": {
          "base_uri": "https://localhost:8080/",
          "height": 992
        }
      },
      "source": [
        "print(boston.DESCR)"
      ],
      "execution_count": 4,
      "outputs": [
        {
          "output_type": "stream",
          "text": [
            ".. _boston_dataset:\n",
            "\n",
            "Boston house prices dataset\n",
            "---------------------------\n",
            "\n",
            "**Data Set Characteristics:**  \n",
            "\n",
            "    :Number of Instances: 506 \n",
            "\n",
            "    :Number of Attributes: 13 numeric/categorical predictive. Median Value (attribute 14) is usually the target.\n",
            "\n",
            "    :Attribute Information (in order):\n",
            "        - CRIM     per capita crime rate by town\n",
            "        - ZN       proportion of residential land zoned for lots over 25,000 sq.ft.\n",
            "        - INDUS    proportion of non-retail business acres per town\n",
            "        - CHAS     Charles River dummy variable (= 1 if tract bounds river; 0 otherwise)\n",
            "        - NOX      nitric oxides concentration (parts per 10 million)\n",
            "        - RM       average number of rooms per dwelling\n",
            "        - AGE      proportion of owner-occupied units built prior to 1940\n",
            "        - DIS      weighted distances to five Boston employment centres\n",
            "        - RAD      index of accessibility to radial highways\n",
            "        - TAX      full-value property-tax rate per $10,000\n",
            "        - PTRATIO  pupil-teacher ratio by town\n",
            "        - B        1000(Bk - 0.63)^2 where Bk is the proportion of blacks by town\n",
            "        - LSTAT    % lower status of the population\n",
            "        - MEDV     Median value of owner-occupied homes in $1000's\n",
            "\n",
            "    :Missing Attribute Values: None\n",
            "\n",
            "    :Creator: Harrison, D. and Rubinfeld, D.L.\n",
            "\n",
            "This is a copy of UCI ML housing dataset.\n",
            "https://archive.ics.uci.edu/ml/machine-learning-databases/housing/\n",
            "\n",
            "\n",
            "This dataset was taken from the StatLib library which is maintained at Carnegie Mellon University.\n",
            "\n",
            "The Boston house-price data of Harrison, D. and Rubinfeld, D.L. 'Hedonic\n",
            "prices and the demand for clean air', J. Environ. Economics & Management,\n",
            "vol.5, 81-102, 1978.   Used in Belsley, Kuh & Welsch, 'Regression diagnostics\n",
            "...', Wiley, 1980.   N.B. Various transformations are used in the table on\n",
            "pages 244-261 of the latter.\n",
            "\n",
            "The Boston house-price data has been used in many machine learning papers that address regression\n",
            "problems.   \n",
            "     \n",
            ".. topic:: References\n",
            "\n",
            "   - Belsley, Kuh & Welsch, 'Regression diagnostics: Identifying Influential Data and Sources of Collinearity', Wiley, 1980. 244-261.\n",
            "   - Quinlan,R. (1993). Combining Instance-Based and Model-Based Learning. In Proceedings on the Tenth International Conference of Machine Learning, 236-243, University of Massachusetts, Amherst. Morgan Kaufmann.\n",
            "\n"
          ],
          "name": "stdout"
        }
      ]
    },
    {
      "cell_type": "code",
      "metadata": {
        "id": "cmLMI25TsHTf",
        "colab_type": "code",
        "colab": {}
      },
      "source": [
        "input_data = boston.data"
      ],
      "execution_count": 0,
      "outputs": []
    },
    {
      "cell_type": "code",
      "metadata": {
        "id": "6I_xsuOFsX77",
        "colab_type": "code",
        "outputId": "ab089f19-896e-4208-9a60-3fed48bd134b",
        "colab": {
          "base_uri": "https://localhost:8080/",
          "height": 729
        }
      },
      "source": [
        "target_class = boston.target\n",
        "print(target_class)\n",
        "print(target_class.shape)"
      ],
      "execution_count": 6,
      "outputs": [
        {
          "output_type": "stream",
          "text": [
            "[24.  21.6 34.7 33.4 36.2 28.7 22.9 27.1 16.5 18.9 15.  18.9 21.7 20.4\n",
            " 18.2 19.9 23.1 17.5 20.2 18.2 13.6 19.6 15.2 14.5 15.6 13.9 16.6 14.8\n",
            " 18.4 21.  12.7 14.5 13.2 13.1 13.5 18.9 20.  21.  24.7 30.8 34.9 26.6\n",
            " 25.3 24.7 21.2 19.3 20.  16.6 14.4 19.4 19.7 20.5 25.  23.4 18.9 35.4\n",
            " 24.7 31.6 23.3 19.6 18.7 16.  22.2 25.  33.  23.5 19.4 22.  17.4 20.9\n",
            " 24.2 21.7 22.8 23.4 24.1 21.4 20.  20.8 21.2 20.3 28.  23.9 24.8 22.9\n",
            " 23.9 26.6 22.5 22.2 23.6 28.7 22.6 22.  22.9 25.  20.6 28.4 21.4 38.7\n",
            " 43.8 33.2 27.5 26.5 18.6 19.3 20.1 19.5 19.5 20.4 19.8 19.4 21.7 22.8\n",
            " 18.8 18.7 18.5 18.3 21.2 19.2 20.4 19.3 22.  20.3 20.5 17.3 18.8 21.4\n",
            " 15.7 16.2 18.  14.3 19.2 19.6 23.  18.4 15.6 18.1 17.4 17.1 13.3 17.8\n",
            " 14.  14.4 13.4 15.6 11.8 13.8 15.6 14.6 17.8 15.4 21.5 19.6 15.3 19.4\n",
            " 17.  15.6 13.1 41.3 24.3 23.3 27.  50.  50.  50.  22.7 25.  50.  23.8\n",
            " 23.8 22.3 17.4 19.1 23.1 23.6 22.6 29.4 23.2 24.6 29.9 37.2 39.8 36.2\n",
            " 37.9 32.5 26.4 29.6 50.  32.  29.8 34.9 37.  30.5 36.4 31.1 29.1 50.\n",
            " 33.3 30.3 34.6 34.9 32.9 24.1 42.3 48.5 50.  22.6 24.4 22.5 24.4 20.\n",
            " 21.7 19.3 22.4 28.1 23.7 25.  23.3 28.7 21.5 23.  26.7 21.7 27.5 30.1\n",
            " 44.8 50.  37.6 31.6 46.7 31.5 24.3 31.7 41.7 48.3 29.  24.  25.1 31.5\n",
            " 23.7 23.3 22.  20.1 22.2 23.7 17.6 18.5 24.3 20.5 24.5 26.2 24.4 24.8\n",
            " 29.6 42.8 21.9 20.9 44.  50.  36.  30.1 33.8 43.1 48.8 31.  36.5 22.8\n",
            " 30.7 50.  43.5 20.7 21.1 25.2 24.4 35.2 32.4 32.  33.2 33.1 29.1 35.1\n",
            " 45.4 35.4 46.  50.  32.2 22.  20.1 23.2 22.3 24.8 28.5 37.3 27.9 23.9\n",
            " 21.7 28.6 27.1 20.3 22.5 29.  24.8 22.  26.4 33.1 36.1 28.4 33.4 28.2\n",
            " 22.8 20.3 16.1 22.1 19.4 21.6 23.8 16.2 17.8 19.8 23.1 21.  23.8 23.1\n",
            " 20.4 18.5 25.  24.6 23.  22.2 19.3 22.6 19.8 17.1 19.4 22.2 20.7 21.1\n",
            " 19.5 18.5 20.6 19.  18.7 32.7 16.5 23.9 31.2 17.5 17.2 23.1 24.5 26.6\n",
            " 22.9 24.1 18.6 30.1 18.2 20.6 17.8 21.7 22.7 22.6 25.  19.9 20.8 16.8\n",
            " 21.9 27.5 21.9 23.1 50.  50.  50.  50.  50.  13.8 13.8 15.  13.9 13.3\n",
            " 13.1 10.2 10.4 10.9 11.3 12.3  8.8  7.2 10.5  7.4 10.2 11.5 15.1 23.2\n",
            "  9.7 13.8 12.7 13.1 12.5  8.5  5.   6.3  5.6  7.2 12.1  8.3  8.5  5.\n",
            " 11.9 27.9 17.2 27.5 15.  17.2 17.9 16.3  7.   7.2  7.5 10.4  8.8  8.4\n",
            " 16.7 14.2 20.8 13.4 11.7  8.3 10.2 10.9 11.   9.5 14.5 14.1 16.1 14.3\n",
            " 11.7 13.4  9.6  8.7  8.4 12.8 10.5 17.1 18.4 15.4 10.8 11.8 14.9 12.6\n",
            " 14.1 13.  13.4 15.2 16.1 17.8 14.9 14.1 12.7 13.5 14.9 20.  16.4 17.7\n",
            " 19.5 20.2 21.4 19.9 19.  19.1 19.1 20.1 19.9 19.6 23.2 29.8 13.8 13.3\n",
            " 16.7 12.  14.6 21.4 23.  23.7 25.  21.8 20.6 21.2 19.1 20.6 15.2  7.\n",
            "  8.1 13.6 20.1 21.8 24.5 23.1 19.7 18.3 21.2 17.5 16.8 22.4 20.6 23.9\n",
            " 22.  11.9]\n",
            "(506,)\n"
          ],
          "name": "stdout"
        }
      ]
    },
    {
      "cell_type": "code",
      "metadata": {
        "id": "XKLwsYo8scG_",
        "colab_type": "code",
        "colab": {}
      },
      "source": [
        "scaler = StandardScaler()\n",
        "#fit calculates mean and variance and then transforms input data to zero mean and unit variance\n",
        "input_scaled = scaler.fit_transform(input_data) "
      ],
      "execution_count": 0,
      "outputs": []
    },
    {
      "cell_type": "code",
      "metadata": {
        "id": "WvZFuhw9tD3Z",
        "colab_type": "code",
        "colab": {}
      },
      "source": [
        "\n",
        "x_train,x_test,y_train,y_test = train_test_split(input_scaled,target_class,test_size=0.3)"
      ],
      "execution_count": 0,
      "outputs": []
    },
    {
      "cell_type": "code",
      "metadata": {
        "id": "NBbVb-bzuUiT",
        "colab_type": "code",
        "colab": {}
      },
      "source": [
        "model = Sequential()"
      ],
      "execution_count": 0,
      "outputs": []
    },
    {
      "cell_type": "code",
      "metadata": {
        "id": "2FR2Y_ydvEUi",
        "colab_type": "code",
        "outputId": "6e0a157d-5a14-4843-8b34-64374e0da13e",
        "colab": {
          "base_uri": "https://localhost:8080/",
          "height": 112
        }
      },
      "source": [
        "h1 = model.add(Dense(8,activation=\"relu\",input_dim=13)) #6 neurons in first hidden layer , with relu activation function is added\n",
        "h2=model.add(Dense(6,activation=\"relu\"))\n",
        "h3=model.add(Dense(6,activation=\"relu\"))\n",
        "o = model.add(Dense(1,activation='linear'))"
      ],
      "execution_count": 11,
      "outputs": [
        {
          "output_type": "stream",
          "text": [
            "W0903 03:41:22.609636 140632122156928 deprecation_wrapper.py:119] From /usr/local/lib/python3.6/dist-packages/keras/backend/tensorflow_backend.py:541: The name tf.placeholder is deprecated. Please use tf.compat.v1.placeholder instead.\n",
            "\n",
            "W0903 03:41:22.623425 140632122156928 deprecation_wrapper.py:119] From /usr/local/lib/python3.6/dist-packages/keras/backend/tensorflow_backend.py:4432: The name tf.random_uniform is deprecated. Please use tf.random.uniform instead.\n",
            "\n"
          ],
          "name": "stderr"
        }
      ]
    },
    {
      "cell_type": "code",
      "metadata": {
        "id": "BEjo-9DAvdCW",
        "colab_type": "code",
        "outputId": "c19a0bd8-77f6-41b1-c4e1-8575de1db467",
        "colab": {
          "base_uri": "https://localhost:8080/",
          "height": 74
        }
      },
      "source": [
        "model.compile(loss=\"mean_squared_error\",optimizer=\"Adam\",metrics=['accuracy'])"
      ],
      "execution_count": 12,
      "outputs": [
        {
          "output_type": "stream",
          "text": [
            "W0903 03:41:25.009186 140632122156928 deprecation_wrapper.py:119] From /usr/local/lib/python3.6/dist-packages/keras/optimizers.py:793: The name tf.train.Optimizer is deprecated. Please use tf.compat.v1.train.Optimizer instead.\n",
            "\n"
          ],
          "name": "stderr"
        }
      ]
    },
    {
      "cell_type": "code",
      "metadata": {
        "id": "cfS89TWXvq2S",
        "colab_type": "code",
        "outputId": "71609fb4-073e-4b2b-c7a6-bdcdc20d0e46",
        "colab": {
          "base_uri": "https://localhost:8080/",
          "height": 317
        }
      },
      "source": [
        "model.summary()"
      ],
      "execution_count": 13,
      "outputs": [
        {
          "output_type": "stream",
          "text": [
            "Model: \"sequential_2\"\n",
            "_________________________________________________________________\n",
            "Layer (type)                 Output Shape              Param #   \n",
            "=================================================================\n",
            "dense_1 (Dense)              (None, 8)                 112       \n",
            "_________________________________________________________________\n",
            "dense_2 (Dense)              (None, 6)                 54        \n",
            "_________________________________________________________________\n",
            "dense_3 (Dense)              (None, 6)                 42        \n",
            "_________________________________________________________________\n",
            "dense_4 (Dense)              (None, 1)                 7         \n",
            "=================================================================\n",
            "Total params: 215\n",
            "Trainable params: 215\n",
            "Non-trainable params: 0\n",
            "_________________________________________________________________\n"
          ],
          "name": "stdout"
        }
      ]
    },
    {
      "cell_type": "code",
      "metadata": {
        "id": "rFc97qEGvwTa",
        "colab_type": "code",
        "outputId": "60e14d62-50d6-4e94-c7ac-446501176078",
        "colab": {
          "base_uri": "https://localhost:8080/",
          "height": 1000
        }
      },
      "source": [
        "model.fit(x_train,y_train,batch_size=10,epochs=50)"
      ],
      "execution_count": 14,
      "outputs": [
        {
          "output_type": "stream",
          "text": [
            "W0903 03:41:32.405292 140632122156928 deprecation_wrapper.py:119] From /usr/local/lib/python3.6/dist-packages/keras/backend/tensorflow_backend.py:1033: The name tf.assign_add is deprecated. Please use tf.compat.v1.assign_add instead.\n",
            "\n",
            "W0903 03:41:32.504377 140632122156928 deprecation_wrapper.py:119] From /usr/local/lib/python3.6/dist-packages/keras/backend/tensorflow_backend.py:1020: The name tf.assign is deprecated. Please use tf.compat.v1.assign instead.\n",
            "\n"
          ],
          "name": "stderr"
        },
        {
          "output_type": "stream",
          "text": [
            "Epoch 1/50\n",
            "354/354 [==============================] - 1s 2ms/step - loss: 603.8252 - acc: 0.0000e+00\n",
            "Epoch 2/50\n",
            "354/354 [==============================] - 0s 110us/step - loss: 594.4545 - acc: 0.0000e+00\n",
            "Epoch 3/50\n",
            "354/354 [==============================] - 0s 107us/step - loss: 579.3685 - acc: 0.0000e+00\n",
            "Epoch 4/50\n",
            "354/354 [==============================] - 0s 104us/step - loss: 546.4250 - acc: 0.0000e+00\n",
            "Epoch 5/50\n",
            "354/354 [==============================] - 0s 107us/step - loss: 484.2691 - acc: 0.0000e+00\n",
            "Epoch 6/50\n",
            "354/354 [==============================] - 0s 145us/step - loss: 388.3783 - acc: 0.0028\n",
            "Epoch 7/50\n",
            "354/354 [==============================] - 0s 113us/step - loss: 264.9882 - acc: 0.0000e+00\n",
            "Epoch 8/50\n",
            "354/354 [==============================] - 0s 117us/step - loss: 154.7389 - acc: 0.0000e+00\n",
            "Epoch 9/50\n",
            "354/354 [==============================] - 0s 136us/step - loss: 89.7086 - acc: 0.0028\n",
            "Epoch 10/50\n",
            "354/354 [==============================] - 0s 116us/step - loss: 65.6147 - acc: 0.0113\n",
            "Epoch 11/50\n",
            "354/354 [==============================] - 0s 137us/step - loss: 54.3780 - acc: 0.0028\n",
            "Epoch 12/50\n",
            "354/354 [==============================] - 0s 113us/step - loss: 45.9346 - acc: 0.0056\n",
            "Epoch 13/50\n",
            "354/354 [==============================] - 0s 132us/step - loss: 39.2986 - acc: 0.0056\n",
            "Epoch 14/50\n",
            "354/354 [==============================] - 0s 117us/step - loss: 34.3149 - acc: 0.0113\n",
            "Epoch 15/50\n",
            "354/354 [==============================] - 0s 114us/step - loss: 30.3092 - acc: 0.0113\n",
            "Epoch 16/50\n",
            "354/354 [==============================] - 0s 116us/step - loss: 27.3391 - acc: 0.0028\n",
            "Epoch 17/50\n",
            "354/354 [==============================] - 0s 112us/step - loss: 25.3401 - acc: 0.0056\n",
            "Epoch 18/50\n",
            "354/354 [==============================] - 0s 116us/step - loss: 23.6634 - acc: 0.0028\n",
            "Epoch 19/50\n",
            "354/354 [==============================] - 0s 120us/step - loss: 22.5327 - acc: 0.0000e+00\n",
            "Epoch 20/50\n",
            "354/354 [==============================] - 0s 113us/step - loss: 21.4148 - acc: 0.0056\n",
            "Epoch 21/50\n",
            "354/354 [==============================] - 0s 113us/step - loss: 20.6042 - acc: 0.0085\n",
            "Epoch 22/50\n",
            "354/354 [==============================] - 0s 124us/step - loss: 19.9762 - acc: 0.0141\n",
            "Epoch 23/50\n",
            "354/354 [==============================] - 0s 123us/step - loss: 19.3524 - acc: 0.0141\n",
            "Epoch 24/50\n",
            "354/354 [==============================] - 0s 118us/step - loss: 18.3766 - acc: 0.0169\n",
            "Epoch 25/50\n",
            "354/354 [==============================] - 0s 119us/step - loss: 17.9880 - acc: 0.0226\n",
            "Epoch 26/50\n",
            "354/354 [==============================] - 0s 112us/step - loss: 17.6319 - acc: 0.0141\n",
            "Epoch 27/50\n",
            "354/354 [==============================] - 0s 136us/step - loss: 16.9857 - acc: 0.0282\n",
            "Epoch 28/50\n",
            "354/354 [==============================] - 0s 114us/step - loss: 16.5910 - acc: 0.0226\n",
            "Epoch 29/50\n",
            "354/354 [==============================] - 0s 138us/step - loss: 16.2573 - acc: 0.0198\n",
            "Epoch 30/50\n",
            "354/354 [==============================] - 0s 120us/step - loss: 15.8333 - acc: 0.0226\n",
            "Epoch 31/50\n",
            "354/354 [==============================] - 0s 115us/step - loss: 15.6514 - acc: 0.0282\n",
            "Epoch 32/50\n",
            "354/354 [==============================] - 0s 119us/step - loss: 15.3859 - acc: 0.0198\n",
            "Epoch 33/50\n",
            "354/354 [==============================] - 0s 113us/step - loss: 15.0541 - acc: 0.0198\n",
            "Epoch 34/50\n",
            "354/354 [==============================] - 0s 130us/step - loss: 14.7593 - acc: 0.0254\n",
            "Epoch 35/50\n",
            "354/354 [==============================] - 0s 114us/step - loss: 14.5732 - acc: 0.0198\n",
            "Epoch 36/50\n",
            "354/354 [==============================] - 0s 117us/step - loss: 14.2586 - acc: 0.0198\n",
            "Epoch 37/50\n",
            "354/354 [==============================] - 0s 116us/step - loss: 14.0722 - acc: 0.0169\n",
            "Epoch 38/50\n",
            "354/354 [==============================] - 0s 114us/step - loss: 13.8494 - acc: 0.0226\n",
            "Epoch 39/50\n",
            "354/354 [==============================] - 0s 112us/step - loss: 13.6541 - acc: 0.0226\n",
            "Epoch 40/50\n",
            "354/354 [==============================] - 0s 115us/step - loss: 13.4734 - acc: 0.0198\n",
            "Epoch 41/50\n",
            "354/354 [==============================] - 0s 116us/step - loss: 13.4379 - acc: 0.0169\n",
            "Epoch 42/50\n",
            "354/354 [==============================] - 0s 135us/step - loss: 13.0886 - acc: 0.0226\n",
            "Epoch 43/50\n",
            "354/354 [==============================] - 0s 124us/step - loss: 12.9161 - acc: 0.0226\n",
            "Epoch 44/50\n",
            "354/354 [==============================] - 0s 113us/step - loss: 12.7290 - acc: 0.0169\n",
            "Epoch 45/50\n",
            "354/354 [==============================] - 0s 114us/step - loss: 12.5442 - acc: 0.0226\n",
            "Epoch 46/50\n",
            "354/354 [==============================] - 0s 113us/step - loss: 12.3536 - acc: 0.0169\n",
            "Epoch 47/50\n",
            "354/354 [==============================] - 0s 111us/step - loss: 12.1270 - acc: 0.0226\n",
            "Epoch 48/50\n",
            "354/354 [==============================] - 0s 116us/step - loss: 12.1202 - acc: 0.0198\n",
            "Epoch 49/50\n",
            "354/354 [==============================] - 0s 114us/step - loss: 11.8234 - acc: 0.0198\n",
            "Epoch 50/50\n",
            "354/354 [==============================] - 0s 119us/step - loss: 11.6955 - acc: 0.0198\n"
          ],
          "name": "stdout"
        },
        {
          "output_type": "execute_result",
          "data": {
            "text/plain": [
              "<keras.callbacks.History at 0x7fe735935668>"
            ]
          },
          "metadata": {
            "tags": []
          },
          "execution_count": 14
        }
      ]
    }
  ]
}