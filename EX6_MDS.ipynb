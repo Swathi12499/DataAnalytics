{
  "nbformat": 4,
  "nbformat_minor": 0,
  "metadata": {
    "colab": {
      "name": " MDS.ipynb",
      "version": "0.3.2",
      "provenance": [],
      "collapsed_sections": [],
      "include_colab_link": true
    },
    "kernelspec": {
      "name": "python3",
      "display_name": "Python 3"
    }
  },
  "cells": [
    {
      "cell_type": "markdown",
      "metadata": {
        "id": "view-in-github",
        "colab_type": "text"
      },
      "source": [
        "<a href=\"https://colab.research.google.com/github/Swathi12499/DataAnalytics/blob/master/MDS.ipynb\" target=\"_parent\"><img src=\"https://colab.research.google.com/assets/colab-badge.svg\" alt=\"Open In Colab\"/></a>"
      ]
    },
    {
      "cell_type": "code",
      "metadata": {
        "id": "gubw_2WoS5CQ",
        "colab_type": "code",
        "colab": {}
      },
      "source": [
        "import numpy as np\n",
        "import matplotlib.pyplot as plt"
      ],
      "execution_count": 0,
      "outputs": []
    },
    {
      "cell_type": "code",
      "metadata": {
        "id": "6C6VQ_vpYpQ-",
        "colab_type": "code",
        "outputId": "cd9758db-efb2-44fd-9469-7fdd61977a6e",
        "colab": {
          "base_uri": "https://localhost:8080/",
          "height": 287
        }
      },
      "source": [
        " x=[1,2,2,3]\n",
        " y=[1,1,2,2]\n",
        " plt.scatter(x,y)"
      ],
      "execution_count": 0,
      "outputs": [
        {
          "output_type": "execute_result",
          "data": {
            "text/plain": [
              "<matplotlib.collections.PathCollection at 0x7f6d7d89cfd0>"
            ]
          },
          "metadata": {
            "tags": []
          },
          "execution_count": 7
        },
        {
          "output_type": "display_data",
          "data": {
            "image/png": "[encoded data removed]",
            "text/plain": [
              "<Figure size 432x288 with 1 Axes>"
            ]
          },
          "metadata": {
            "tags": []
          }
        }
      ]
    },
    {
      "cell_type": "code",
      "metadata": {
        "id": "YC4PZdFZayZ9",
        "colab_type": "code",
        "colab": {}
      },
      "source": [
        "def center(X):\n",
        "    newX = X - np.mean(X, axis = 0)\n",
        "    return newX\n"
      ],
      "execution_count": 0,
      "outputs": []
    },
    {
      "cell_type": "code",
      "metadata": {
        "id": "mGAhUNKJZ7Zf",
        "colab_type": "code",
        "outputId": "72f92243-827d-4307-ac97-df79b86ab080",
        "colab": {
          "base_uri": "https://localhost:8080/",
          "height": 287
        }
      },
      "source": [
        "XCentered = center(x)\n",
        "YCentered = center (y)\n",
        "plt.scatter(XCentered,YCentered)\n",
        "\n"
      ],
      "execution_count": 0,
      "outputs": [
        {
          "output_type": "execute_result",
          "data": {
            "text/plain": [
              "<matplotlib.collections.PathCollection at 0x7f6d7d78be48>"
            ]
          },
          "metadata": {
            "tags": []
          },
          "execution_count": 12
        },
        {
          "output_type": "display_data",
          "data": {
            "image/png": "[encoded data removed]",
            "text/plain": [
              "<Figure size 432x288 with 1 Axes>"
            ]
          },
          "metadata": {
            "tags": []
          }
        }
      ]
    },
    {
      "cell_type": "code",
      "metadata": {
        "id": "jHMpcJR7cvu_",
        "colab_type": "code",
        "outputId": "48f0cabf-63e6-4a1f-a037-7414fe00c379",
        "colab": {
          "base_uri": "https://localhost:8080/",
          "height": 90
        }
      },
      "source": [
        "Mat=np.column_stack((XCentered, YCentered))\n",
        "print(Mat)"
      ],
      "execution_count": 0,
      "outputs": [
        {
          "output_type": "stream",
          "text": [
            "[[-1.  -0.5]\n",
            " [ 0.  -0.5]\n",
            " [ 0.   0.5]\n",
            " [ 1.   0.5]]\n"
          ],
          "name": "stdout"
        }
      ]
    },
    {
      "cell_type": "code",
      "metadata": {
        "id": "jiOb03W6ea9y",
        "colab_type": "code",
        "outputId": "fbc9cf8b-8a00-4637-db51-20213d295c2d",
        "colab": {
          "base_uri": "https://localhost:8080/",
          "height": 90
        }
      },
      "source": [
        "prod = np.dot(Mat, Mat.T)\n",
        "print(prod)"
      ],
      "execution_count": 0,
      "outputs": [
        {
          "output_type": "stream",
          "text": [
            "[[ 1.25  0.25 -0.25 -1.25]\n",
            " [ 0.25  0.25 -0.25 -0.25]\n",
            " [-0.25 -0.25  0.25  0.25]\n",
            " [-1.25 -0.25  0.25  1.25]]\n"
          ],
          "name": "stdout"
        }
      ]
    },
    {
      "cell_type": "code",
      "metadata": {
        "id": "RouJSSptfiD8",
        "colab_type": "code",
        "outputId": "349af361-3d52-43d0-e493-31c16e70cc4e",
        "colab": {
          "base_uri": "https://localhost:8080/",
          "height": 109
        }
      },
      "source": [
        "\n",
        "print (\"Eigenvalues\", np.linalg.eigvals(prod))\n",
        "\n",
        "eigenvalues, eigenvectors = np.linalg.eig(prod)\n",
        "print (\"Eigen vectors\", eigenvectors)"
      ],
      "execution_count": 0,
      "outputs": [
        {
          "output_type": "stream",
          "text": [
            "Eigenvalues [ 2.61803399e+00  3.81966011e-01 -9.45799730e-17 -2.55373581e-17]\n",
            "Eigen vectors [[-0.68819096  0.16245985  0.67618941  0.02708022]\n",
            " [-0.16245985 -0.68819096  0.20680399  0.70658804]\n",
            " [ 0.16245985  0.68819096  0.20680399  0.70658804]\n",
            " [ 0.68819096 -0.16245985  0.67618941  0.02708022]]\n"
          ],
          "name": "stdout"
        }
      ]
    },
    {
      "cell_type": "code",
      "metadata": {
        "id": "5wOk_h5DgNRt",
        "colab_type": "code",
        "outputId": "194c67a7-9ccb-4557-f99a-a1a7dcf2aecf",
        "colab": {
          "base_uri": "https://localhost:8080/",
          "height": 90
        }
      },
      "source": [
        "e_vector=eigenvectors[:,[0]]\n",
        "print(e_vector)\n"
      ],
      "execution_count": 0,
      "outputs": [
        {
          "output_type": "stream",
          "text": [
            "[[-0.68819096]\n",
            " [-0.16245985]\n",
            " [ 0.16245985]\n",
            " [ 0.68819096]]\n"
          ],
          "name": "stdout"
        }
      ]
    },
    {
      "cell_type": "code",
      "metadata": {
        "id": "UX13Bwctgqj7",
        "colab_type": "code",
        "outputId": "97de3b0a-091f-46b3-a5c4-06f28909ae19",
        "colab": {
          "base_uri": "https://localhost:8080/",
          "height": 35
        }
      },
      "source": [
        "e_value=eigenvalues[0]\n",
        "print(e_value)"
      ],
      "execution_count": 0,
      "outputs": [
        {
          "output_type": "stream",
          "text": [
            "2.6180339887498945\n"
          ],
          "name": "stdout"
        }
      ]
    },
    {
      "cell_type": "code",
      "metadata": {
        "id": "0ZKrdDOag7t5",
        "colab_type": "code",
        "outputId": "dd989de1-f189-42bd-e4da-de8e1cd4f471",
        "colab": {
          "base_uri": "https://localhost:8080/",
          "height": 90
        }
      },
      "source": [
        "import math\n",
        "result=math.sqrt(e_value)*e_vector\n",
        "print(result)"
      ],
      "execution_count": 0,
      "outputs": [
        {
          "output_type": "stream",
          "text": [
            "[[-1.11351636]\n",
            " [-0.26286556]\n",
            " [ 0.26286556]\n",
            " [ 1.11351636]]\n"
          ],
          "name": "stdout"
        }
      ]
    },
    {
      "cell_type": "code",
      "metadata": {
        "id": "1uW2-w7oiLi9",
        "colab_type": "code",
        "outputId": "688515e8-92fa-4432-f4a0-5da03679f24a",
        "colab": {
          "base_uri": "https://localhost:8080/",
          "height": 90
        }
      },
      "source": [
        "from sklearn.metrics.pairwise import euclidean_distances\n",
        "dx=euclidean_distances(Mat, Mat)\n",
        "print(dx)"
      ],
      "execution_count": 0,
      "outputs": [
        {
          "output_type": "stream",
          "text": [
            "[[0.         1.         1.41421356 2.23606798]\n",
            " [1.         0.         1.         1.41421356]\n",
            " [1.41421356 1.         0.         1.        ]\n",
            " [2.23606798 1.41421356 1.         0.        ]]\n"
          ],
          "name": "stdout"
        }
      ]
    },
    {
      "cell_type": "code",
      "metadata": {
        "id": "sF-VXkblkS6Q",
        "colab_type": "code",
        "outputId": "81dfb8ea-cf57-4823-a536-686877f04abe",
        "colab": {
          "base_uri": "https://localhost:8080/",
          "height": 90
        }
      },
      "source": [
        "dy=euclidean_distances(result, result)\n",
        "print(dy)"
      ],
      "execution_count": 0,
      "outputs": [
        {
          "output_type": "stream",
          "text": [
            "[[0.         0.85065081 1.37638192 2.22703273]\n",
            " [0.85065081 0.         0.52573111 1.37638192]\n",
            " [1.37638192 0.52573111 0.         0.85065081]\n",
            " [2.22703273 1.37638192 0.85065081 0.        ]]\n"
          ],
          "name": "stdout"
        }
      ]
    },
    {
      "cell_type": "code",
      "metadata": {
        "id": "7VXkI_m2kkqj",
        "colab_type": "code",
        "outputId": "399df9e9-c6ee-456a-f29c-698bdf731716",
        "colab": {
          "base_uri": "https://localhost:8080/",
          "height": 287
        }
      },
      "source": [
        "plt.scatter(dx,dy)"
      ],
      "execution_count": 0,
      "outputs": [
        {
          "output_type": "execute_result",
          "data": {
            "text/plain": [
              "<matplotlib.collections.PathCollection at 0x7f6d72aa1da0>"
            ]
          },
          "metadata": {
            "tags": []
          },
          "execution_count": 32
        },
        {
          "output_type": "display_data",
          "data": {
            "image/png": "[encoded data removed]",
            "text/plain": [
              "<Figure size 432x288 with 1 Axes>"
            ]
          },
          "metadata": {
            "tags": []
          }
        }
      ]
    },
    {
      "cell_type": "code",
      "metadata": {
        "id": "h5E27jmPk7DN",
        "colab_type": "code",
        "outputId": "5cab33d3-eba8-4527-e02b-861fc9c44b30",
        "colab": {
          "base_uri": "https://localhost:8080/",
          "height": 342
        }
      },
      "source": [
        "plt.plot(dx,dy)"
      ],
      "execution_count": 0,
      "outputs": [
        {
          "output_type": "execute_result",
          "data": {
            "text/plain": [
              "[<matplotlib.lines.Line2D at 0x7f6d72a78b00>,\n",
              " <matplotlib.lines.Line2D at 0x7f6d72a78c50>,\n",
              " <matplotlib.lines.Line2D at 0x7f6d72a78da0>,\n",
              " <matplotlib.lines.Line2D at 0x7f6d72a78ef0>]"
            ]
          },
          "metadata": {
            "tags": []
          },
          "execution_count": 33
        },
        {
          "output_type": "display_data",
          "data": {
            "image/png": "[encoded data removed]",
            "text/plain": [
              "<Figure size 432x288 with 1 Axes>"
            ]
          },
          "metadata": {
            "tags": []
          }
        }
      ]
    }
  ]
}
